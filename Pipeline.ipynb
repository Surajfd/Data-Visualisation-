{
 "cells": [
  {
   "cell_type": "code",
   "execution_count": 1,
   "metadata": {
    "gather": {
     "logged": 1662911598644
    }
   },
   "outputs": [
    {
     "data": {
      "text/plain": [
       "Workspace.create(name='IntellipaatDemos', subscription_id='567af235-69fa-493d-abb8-e70b312cce1c', resource_group='Testgroup')"
      ]
     },
     "execution_count": 1,
     "metadata": {},
     "output_type": "execute_result"
    }
   ],
   "source": [
    "import azureml.core\r\n",
    "from azureml.core import Workspace, Datastore\r\n",
    "\r\n",
    "ws = Workspace.from_config('./demoProject/config.json')\r\n",
    "ws"
   ]
  },
  {
   "cell_type": "code",
   "execution_count": 2,
   "metadata": {
    "gather": {
     "logged": 1662911698327
    },
    "jupyter": {
     "outputs_hidden": false,
     "source_hidden": false
    },
    "nteract": {
     "transient": {
      "deleting": false
     }
    }
   },
   "outputs": [],
   "source": [
    "\r\n",
    "datastore = Datastore.get(ws, 'demostore')"
   ]
  },
  {
   "cell_type": "code",
   "execution_count": 3,
   "metadata": {
    "gather": {
     "logged": 1662911797610
    },
    "jupyter": {
     "outputs_hidden": false,
     "source_hidden": false
    },
    "nteract": {
     "transient": {
      "deleting": false
     }
    }
   },
   "outputs": [],
   "source": [
    "from azureml.core.compute import ComputeTarget, AmlCompute\r\n",
    "compute_name = \"bestcomputer\"\r\n",
    "vm_size = \"Standard_E4s_v3\"\r\n",
    "compute_target = ws.compute_targets[compute_name]\r\n"
   ]
  },
  {
   "cell_type": "code",
   "execution_count": null,
   "metadata": {
    "jupyter": {
     "outputs_hidden": false,
     "source_hidden": false
    },
    "nteract": {
     "transient": {
      "deleting": false
     }
    }
   },
   "outputs": [],
   "source": []
  },
  {
   "cell_type": "code",
   "execution_count": 4,
   "metadata": {
    "gather": {
     "logged": 1662911984528
    },
    "jupyter": {
     "outputs_hidden": false,
     "source_hidden": false
    },
    "nteract": {
     "transient": {
      "deleting": false
     }
    }
   },
   "outputs": [],
   "source": [
    "from azureml.core.runconfig import RunConfiguration\r\n",
    "from azureml.core.conda_dependencies import CondaDependencies\r\n",
    "from azureml.core import Environment \r\n",
    "\r\n",
    "aml_run_config = RunConfiguration()\r\n",
    "# `compute_target` as defined in \"Azure Machine Learning compute\" section above\r\n",
    "aml_run_config.target = compute_target\r\n",
    "\r\n",
    "USE_CURATED_ENV = True\r\n",
    "if USE_CURATED_ENV :\r\n",
    "    curated_environment = Environment.get(workspace=ws, name=\"AzureML-sklearn-0.24-ubuntu18.04-py37-cpu\")\r\n",
    "    aml_run_config.environment = curated_environment\r\n",
    "else:\r\n",
    "    aml_run_config.environment.python.user_managed_dependencies = False\r\n",
    "    \r\n",
    "    # Add some packages relied on by data prep step\r\n",
    "    aml_run_config.environment.python.conda_dependencies = CondaDependencies.create(\r\n",
    "        conda_packages=['pandas','scikit-learn','matplotlib'], \r\n",
    "        pip_packages=['azureml-sdk', 'azureml-dataset-runtime[fuse,pandas]'], \r\n",
    "        pin_sdk_version=False)\r\n"
   ]
  },
  {
   "cell_type": "code",
   "execution_count": 15,
   "metadata": {
    "gather": {
     "logged": 1662912643754
    },
    "jupyter": {
     "outputs_hidden": false,
     "source_hidden": false
    },
    "nteract": {
     "transient": {
      "deleting": false
     }
    }
   },
   "outputs": [],
   "source": [
    "from azureml.pipeline.steps import PythonScriptStep\r\n",
    "source_dir = \"\"\r\n",
    "entry_point = \"Titanic_Preds.py\""
   ]
  },
  {
   "cell_type": "code",
   "execution_count": 16,
   "metadata": {
    "gather": {
     "logged": 1662912646935
    },
    "jupyter": {
     "outputs_hidden": false,
     "source_hidden": false
    },
    "nteract": {
     "transient": {
      "deleting": false
     }
    }
   },
   "outputs": [],
   "source": [
    "py_script_run_step = PythonScriptStep(\r\n",
    "    source_directory = source_dir,\r\n",
    "    script_name=entry_point,\r\n",
    "    compute_target=compute_target,\r\n",
    "    runconfig=aml_run_config,\r\n",
    "    allow_reuse=False\r\n",
    ")"
   ]
  },
  {
   "cell_type": "code",
   "execution_count": 17,
   "metadata": {
    "gather": {
     "logged": 1662912649805
    },
    "jupyter": {
     "outputs_hidden": false,
     "source_hidden": false
    },
    "nteract": {
     "transient": {
      "deleting": false
     }
    }
   },
   "outputs": [],
   "source": [
    "pipeline_steps = [py_script_run_step ]"
   ]
  },
  {
   "cell_type": "code",
   "execution_count": 18,
   "metadata": {
    "gather": {
     "logged": 1662912652913
    },
    "jupyter": {
     "outputs_hidden": false,
     "source_hidden": false
    },
    "nteract": {
     "transient": {
      "deleting": false
     }
    }
   },
   "outputs": [],
   "source": [
    "from azureml.pipeline.core import Pipeline\r\n",
    "\r\n",
    "# Build the pipeline\r\n",
    "pipeline1 = Pipeline(workspace=ws, steps=[pipeline_steps])"
   ]
  },
  {
   "cell_type": "code",
   "execution_count": 19,
   "metadata": {
    "jupyter": {
     "outputs_hidden": false,
     "source_hidden": false
    },
    "nteract": {
     "transient": {
      "deleting": false
     }
    }
   },
   "outputs": [
    {
     "name": "stdout",
     "output_type": "stream",
     "text": [
      "Created step Titanic_Preds.py [5dabcaaa][3e5ab9bd-57dd-4502-a4e5-fe408c51de02], (This step will run and generate new outputs)\n",
      "Submitted PipelineRun 2a906bd0-6b19-4229-b328-e24d305a7d03\n",
      "Link to Azure Machine Learning Portal: https://ml.azure.com/runs/2a906bd0-6b19-4229-b328-e24d305a7d03?wsid=/subscriptions/567af235-69fa-493d-abb8-e70b312cce1c/resourcegroups/Testgroup/workspaces/IntellipaatDemos&tid=5afbb968-8544-491f-90e1-9161db08035c\n",
      "PipelineRunId: 2a906bd0-6b19-4229-b328-e24d305a7d03\n",
      "Link to Azure Machine Learning Portal: https://ml.azure.com/runs/2a906bd0-6b19-4229-b328-e24d305a7d03?wsid=/subscriptions/567af235-69fa-493d-abb8-e70b312cce1c/resourcegroups/Testgroup/workspaces/IntellipaatDemos&tid=5afbb968-8544-491f-90e1-9161db08035c\n",
      "PipelineRun Status: Running\n",
      "\n",
      "\n",
      "StepRunId: 3554ed51-8320-407e-bad3-ae0ac502ebbd\n",
      "Link to Azure Machine Learning Portal: https://ml.azure.com/runs/3554ed51-8320-407e-bad3-ae0ac502ebbd?wsid=/subscriptions/567af235-69fa-493d-abb8-e70b312cce1c/resourcegroups/Testgroup/workspaces/IntellipaatDemos&tid=5afbb968-8544-491f-90e1-9161db08035c\n",
      "StepRun( Titanic_Preds.py ) Status: Running\n"
     ]
    }
   ],
   "source": [
    "from azureml.core import Experiment\r\n",
    "\r\n",
    "# Submit the pipeline to be run\r\n",
    "pipeline_run1 = Experiment(ws, 'first_try_of_titanic_pipeline').submit(pipeline1)\r\n",
    "pipeline_run1.wait_for_completion(show_output = True)\r\n"
   ]
  },
  {
   "cell_type": "code",
   "execution_count": null,
   "metadata": {
    "jupyter": {
     "outputs_hidden": false,
     "source_hidden": false
    },
    "nteract": {
     "transient": {
      "deleting": false
     }
    }
   },
   "outputs": [],
   "source": []
  },
  {
   "cell_type": "code",
   "execution_count": null,
   "metadata": {
    "jupyter": {
     "outputs_hidden": false,
     "source_hidden": false
    },
    "nteract": {
     "transient": {
      "deleting": false
     }
    }
   },
   "outputs": [],
   "source": []
  },
  {
   "cell_type": "code",
   "execution_count": null,
   "metadata": {
    "jupyter": {
     "outputs_hidden": false,
     "source_hidden": false
    },
    "nteract": {
     "transient": {
      "deleting": false
     }
    }
   },
   "outputs": [],
   "source": []
  },
  {
   "cell_type": "code",
   "execution_count": null,
   "metadata": {
    "jupyter": {
     "outputs_hidden": false,
     "source_hidden": false
    },
    "nteract": {
     "transient": {
      "deleting": false
     }
    }
   },
   "outputs": [],
   "source": []
  },
  {
   "cell_type": "code",
   "execution_count": null,
   "metadata": {
    "jupyter": {
     "outputs_hidden": false,
     "source_hidden": false
    },
    "nteract": {
     "transient": {
      "deleting": false
     }
    }
   },
   "outputs": [],
   "source": []
  },
  {
   "cell_type": "code",
   "execution_count": null,
   "metadata": {
    "jupyter": {
     "outputs_hidden": false,
     "source_hidden": false
    },
    "nteract": {
     "transient": {
      "deleting": false
     }
    }
   },
   "outputs": [],
   "source": []
  },
  {
   "cell_type": "code",
   "execution_count": null,
   "metadata": {
    "jupyter": {
     "outputs_hidden": false,
     "source_hidden": false
    },
    "nteract": {
     "transient": {
      "deleting": false
     }
    }
   },
   "outputs": [],
   "source": []
  }
 ],
 "metadata": {
  "kernel_info": {
   "name": "python38-azureml"
  },
  "kernelspec": {
   "display_name": "Python 3.8 - AzureML",
   "language": "python",
   "name": "python38-azureml"
  },
  "language_info": {
   "codemirror_mode": {
    "name": "ipython",
    "version": 3
   },
   "file_extension": ".py",
   "mimetype": "text/x-python",
   "name": "python",
   "nbconvert_exporter": "python",
   "pygments_lexer": "ipython3",
   "version": "3.8.13"
  },
  "microsoft": {
   "host": {
    "AzureML": {
     "notebookHasBeenCompleted": true
    }
   }
  },
  "nteract": {
   "version": "nteract-front-end@1.0.0"
  }
 },
 "nbformat": 4,
 "nbformat_minor": 2
}
